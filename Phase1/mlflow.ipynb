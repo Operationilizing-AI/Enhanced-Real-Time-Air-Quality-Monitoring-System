{
 "cells": [
  {
   "cell_type": "code",
   "execution_count": 1,
   "id": "3c0d63da",
   "metadata": {},
   "outputs": [],
   "source": [
    "import pandas as pd\n",
    "import numpy as np\n",
    "import matplotlib.pyplot as plt\n",
    "import seaborn as sns"
   ]
  },
  {
   "cell_type": "code",
   "execution_count": 9,
   "id": "1159b3cf",
   "metadata": {},
   "outputs": [],
   "source": [
    "import mlflow\n",
    "import mlflow.xgboost\n",
    "from mlflow.models import infer_signature\n",
    "import xgboost as xgb\n",
    "from sklearn.model_selection import TimeSeriesSplit, cross_val_score\n",
    "from sklearn.metrics import mean_squared_error, r2_score, mean_absolute_error\n",
    "import numpy as np\n",
    "import pandas as pd\n",
    "from itertools import product"
   ]
  },
  {
   "cell_type": "code",
   "execution_count": 3,
   "id": "75e32514",
   "metadata": {},
   "outputs": [],
   "source": [
    "data = pd.read_csv('/Users/shauryagulati/Developer/Kafka/cleaned_data.csv')"
   ]
  },
  {
   "cell_type": "code",
   "execution_count": 4,
   "id": "e662e278",
   "metadata": {},
   "outputs": [],
   "source": [
    "data['DateandTime'] = pd.to_datetime(data['DateandTime'])"
   ]
  },
  {
   "cell_type": "code",
   "execution_count": 5,
   "id": "7cfebc75",
   "metadata": {},
   "outputs": [],
   "source": [
    "data.set_index('DateandTime', inplace=True)"
   ]
  },
  {
   "cell_type": "code",
   "execution_count": 6,
   "id": "f7aea58d",
   "metadata": {},
   "outputs": [
    {
     "data": {
      "text/html": [
       "<div>\n",
       "<style scoped>\n",
       "    .dataframe tbody tr th:only-of-type {\n",
       "        vertical-align: middle;\n",
       "    }\n",
       "\n",
       "    .dataframe tbody tr th {\n",
       "        vertical-align: top;\n",
       "    }\n",
       "\n",
       "    .dataframe thead th {\n",
       "        text-align: right;\n",
       "    }\n",
       "</style>\n",
       "<table border=\"1\" class=\"dataframe\">\n",
       "  <thead>\n",
       "    <tr style=\"text-align: right;\">\n",
       "      <th></th>\n",
       "      <th>Date</th>\n",
       "      <th>Time</th>\n",
       "      <th>CO(GT)</th>\n",
       "      <th>PT08.S1(CO)</th>\n",
       "      <th>C6H6(GT)</th>\n",
       "      <th>PT08.S2(NMHC)</th>\n",
       "      <th>NOx(GT)</th>\n",
       "      <th>PT08.S3(NOx)</th>\n",
       "      <th>NO2(GT)</th>\n",
       "      <th>PT08.S4(NO2)</th>\n",
       "      <th>PT08.S5(O3)</th>\n",
       "      <th>T</th>\n",
       "      <th>RH</th>\n",
       "      <th>AH</th>\n",
       "    </tr>\n",
       "    <tr>\n",
       "      <th>DateandTime</th>\n",
       "      <th></th>\n",
       "      <th></th>\n",
       "      <th></th>\n",
       "      <th></th>\n",
       "      <th></th>\n",
       "      <th></th>\n",
       "      <th></th>\n",
       "      <th></th>\n",
       "      <th></th>\n",
       "      <th></th>\n",
       "      <th></th>\n",
       "      <th></th>\n",
       "      <th></th>\n",
       "      <th></th>\n",
       "    </tr>\n",
       "  </thead>\n",
       "  <tbody>\n",
       "    <tr>\n",
       "      <th>2004-03-10 18:00:00</th>\n",
       "      <td>2004-03-10</td>\n",
       "      <td>18:00:00</td>\n",
       "      <td>2.6</td>\n",
       "      <td>1360.00</td>\n",
       "      <td>11.881723</td>\n",
       "      <td>1045.50</td>\n",
       "      <td>166.0</td>\n",
       "      <td>1056.25</td>\n",
       "      <td>113.0</td>\n",
       "      <td>1692.00</td>\n",
       "      <td>1267.50</td>\n",
       "      <td>13.60</td>\n",
       "      <td>48.875001</td>\n",
       "      <td>0.757754</td>\n",
       "    </tr>\n",
       "    <tr>\n",
       "      <th>2004-03-10 19:00:00</th>\n",
       "      <td>2004-03-10</td>\n",
       "      <td>19:00:00</td>\n",
       "      <td>2.0</td>\n",
       "      <td>1292.25</td>\n",
       "      <td>9.397165</td>\n",
       "      <td>954.75</td>\n",
       "      <td>103.0</td>\n",
       "      <td>1173.75</td>\n",
       "      <td>92.0</td>\n",
       "      <td>1558.75</td>\n",
       "      <td>972.25</td>\n",
       "      <td>13.30</td>\n",
       "      <td>47.700000</td>\n",
       "      <td>0.725487</td>\n",
       "    </tr>\n",
       "    <tr>\n",
       "      <th>2004-03-10 20:00:00</th>\n",
       "      <td>2004-03-10</td>\n",
       "      <td>20:00:00</td>\n",
       "      <td>2.2</td>\n",
       "      <td>1402.00</td>\n",
       "      <td>8.997817</td>\n",
       "      <td>939.25</td>\n",
       "      <td>131.0</td>\n",
       "      <td>1140.00</td>\n",
       "      <td>114.0</td>\n",
       "      <td>1554.50</td>\n",
       "      <td>1074.00</td>\n",
       "      <td>11.90</td>\n",
       "      <td>53.975000</td>\n",
       "      <td>0.750239</td>\n",
       "    </tr>\n",
       "    <tr>\n",
       "      <th>2004-03-10 21:00:00</th>\n",
       "      <td>2004-03-10</td>\n",
       "      <td>21:00:00</td>\n",
       "      <td>2.2</td>\n",
       "      <td>1375.50</td>\n",
       "      <td>9.228796</td>\n",
       "      <td>948.25</td>\n",
       "      <td>172.0</td>\n",
       "      <td>1092.00</td>\n",
       "      <td>122.0</td>\n",
       "      <td>1583.75</td>\n",
       "      <td>1203.25</td>\n",
       "      <td>11.00</td>\n",
       "      <td>60.000000</td>\n",
       "      <td>0.786713</td>\n",
       "    </tr>\n",
       "    <tr>\n",
       "      <th>2004-03-10 22:00:00</th>\n",
       "      <td>2004-03-10</td>\n",
       "      <td>22:00:00</td>\n",
       "      <td>1.6</td>\n",
       "      <td>1272.25</td>\n",
       "      <td>6.518224</td>\n",
       "      <td>835.50</td>\n",
       "      <td>131.0</td>\n",
       "      <td>1205.00</td>\n",
       "      <td>116.0</td>\n",
       "      <td>1490.00</td>\n",
       "      <td>1110.00</td>\n",
       "      <td>11.15</td>\n",
       "      <td>59.575001</td>\n",
       "      <td>0.788794</td>\n",
       "    </tr>\n",
       "  </tbody>\n",
       "</table>\n",
       "</div>"
      ],
      "text/plain": [
       "                           Date      Time  CO(GT)  PT08.S1(CO)   C6H6(GT)  \\\n",
       "DateandTime                                                                 \n",
       "2004-03-10 18:00:00  2004-03-10  18:00:00     2.6      1360.00  11.881723   \n",
       "2004-03-10 19:00:00  2004-03-10  19:00:00     2.0      1292.25   9.397165   \n",
       "2004-03-10 20:00:00  2004-03-10  20:00:00     2.2      1402.00   8.997817   \n",
       "2004-03-10 21:00:00  2004-03-10  21:00:00     2.2      1375.50   9.228796   \n",
       "2004-03-10 22:00:00  2004-03-10  22:00:00     1.6      1272.25   6.518224   \n",
       "\n",
       "                     PT08.S2(NMHC)  NOx(GT)  PT08.S3(NOx)  NO2(GT)  \\\n",
       "DateandTime                                                          \n",
       "2004-03-10 18:00:00        1045.50    166.0       1056.25    113.0   \n",
       "2004-03-10 19:00:00         954.75    103.0       1173.75     92.0   \n",
       "2004-03-10 20:00:00         939.25    131.0       1140.00    114.0   \n",
       "2004-03-10 21:00:00         948.25    172.0       1092.00    122.0   \n",
       "2004-03-10 22:00:00         835.50    131.0       1205.00    116.0   \n",
       "\n",
       "                     PT08.S4(NO2)  PT08.S5(O3)      T         RH        AH  \n",
       "DateandTime                                                                 \n",
       "2004-03-10 18:00:00       1692.00      1267.50  13.60  48.875001  0.757754  \n",
       "2004-03-10 19:00:00       1558.75       972.25  13.30  47.700000  0.725487  \n",
       "2004-03-10 20:00:00       1554.50      1074.00  11.90  53.975000  0.750239  \n",
       "2004-03-10 21:00:00       1583.75      1203.25  11.00  60.000000  0.786713  \n",
       "2004-03-10 22:00:00       1490.00      1110.00  11.15  59.575001  0.788794  "
      ]
     },
     "execution_count": 6,
     "metadata": {},
     "output_type": "execute_result"
    }
   ],
   "source": [
    "data.head()"
   ]
  },
  {
   "cell_type": "code",
   "execution_count": 7,
   "id": "c21b6338",
   "metadata": {},
   "outputs": [
    {
     "data": {
      "text/plain": [
       "(9357, 14)"
      ]
     },
     "execution_count": 7,
     "metadata": {},
     "output_type": "execute_result"
    }
   ],
   "source": [
    "data.shape"
   ]
  },
  {
   "cell_type": "code",
   "execution_count": 8,
   "id": "d4e14c9d",
   "metadata": {},
   "outputs": [],
   "source": [
    "#Extracting time-based features\n",
    "data['hour'] = data.index.hour\n",
    "data['day_of_week'] = data.index.dayofweek\n",
    "data['month'] = data.index.month"
   ]
  },
  {
   "cell_type": "code",
   "execution_count": 10,
   "id": "3a99acd1",
   "metadata": {},
   "outputs": [],
   "source": [
    "#Lagged features (Lag 1 and Lag 2)\n",
    "data['CO_lag1'] = data['CO(GT)'].shift(1)\n",
    "data['CO_lag2'] = data['CO(GT)'].shift(2)\n",
    "data['NOx_lag1'] = data['NOx(GT)'].shift(1)\n",
    "data['NOx_lag2'] = data['NOx(GT)'].shift(2)\n",
    "data['C6H6_lag1'] = data['C6H6(GT)'].shift(1)\n",
    "data['C6H6_lag2'] = data['C6H6(GT)'].shift(2)"
   ]
  },
  {
   "cell_type": "code",
   "execution_count": 11,
   "id": "32b6bf90",
   "metadata": {},
   "outputs": [],
   "source": [
    "#Rolling statistics (mean and std over the last 3 hours)\n",
    "data['CO_rolling_mean'] = data['CO(GT)'].rolling(window=3).mean()\n",
    "data['CO_rolling_std'] = data['CO(GT)'].rolling(window=3).std()\n",
    "data['NOx_rolling_mean'] = data['NOx(GT)'].rolling(window=3).mean()\n",
    "data['NOx_rolling_std'] = data['NOx(GT)'].rolling(window=3).std()\n",
    "data['C6H6_rolling_mean'] = data['C6H6(GT)'].rolling(window=3).mean()\n",
    "data['C6H6_rolling_std'] = data['C6H6(GT)'].rolling(window=3).std()"
   ]
  },
  {
   "cell_type": "code",
   "execution_count": 12,
   "id": "231e609a",
   "metadata": {},
   "outputs": [],
   "source": [
    "data.dropna(inplace=True)"
   ]
  },
  {
   "cell_type": "code",
   "execution_count": 13,
   "id": "f2151026",
   "metadata": {},
   "outputs": [
    {
     "data": {
      "text/html": [
       "<div>\n",
       "<style scoped>\n",
       "    .dataframe tbody tr th:only-of-type {\n",
       "        vertical-align: middle;\n",
       "    }\n",
       "\n",
       "    .dataframe tbody tr th {\n",
       "        vertical-align: top;\n",
       "    }\n",
       "\n",
       "    .dataframe thead th {\n",
       "        text-align: right;\n",
       "    }\n",
       "</style>\n",
       "<table border=\"1\" class=\"dataframe\">\n",
       "  <thead>\n",
       "    <tr style=\"text-align: right;\">\n",
       "      <th></th>\n",
       "      <th>CO(GT)</th>\n",
       "      <th>NOx(GT)</th>\n",
       "      <th>C6H6(GT)</th>\n",
       "      <th>hour</th>\n",
       "      <th>day_of_week</th>\n",
       "      <th>month</th>\n",
       "      <th>CO_lag1</th>\n",
       "      <th>CO_lag2</th>\n",
       "      <th>NOx_lag1</th>\n",
       "      <th>NOx_lag2</th>\n",
       "      <th>C6H6_lag1</th>\n",
       "      <th>C6H6_lag2</th>\n",
       "      <th>CO_rolling_mean</th>\n",
       "      <th>CO_rolling_std</th>\n",
       "      <th>NOx_rolling_mean</th>\n",
       "      <th>NOx_rolling_std</th>\n",
       "      <th>C6H6_rolling_mean</th>\n",
       "      <th>C6H6_rolling_std</th>\n",
       "    </tr>\n",
       "    <tr>\n",
       "      <th>DateandTime</th>\n",
       "      <th></th>\n",
       "      <th></th>\n",
       "      <th></th>\n",
       "      <th></th>\n",
       "      <th></th>\n",
       "      <th></th>\n",
       "      <th></th>\n",
       "      <th></th>\n",
       "      <th></th>\n",
       "      <th></th>\n",
       "      <th></th>\n",
       "      <th></th>\n",
       "      <th></th>\n",
       "      <th></th>\n",
       "      <th></th>\n",
       "      <th></th>\n",
       "      <th></th>\n",
       "      <th></th>\n",
       "    </tr>\n",
       "  </thead>\n",
       "  <tbody>\n",
       "    <tr>\n",
       "      <th>2004-03-10 20:00:00</th>\n",
       "      <td>2.2</td>\n",
       "      <td>131.0</td>\n",
       "      <td>8.997817</td>\n",
       "      <td>20</td>\n",
       "      <td>2</td>\n",
       "      <td>3</td>\n",
       "      <td>2.0</td>\n",
       "      <td>2.6</td>\n",
       "      <td>103.0</td>\n",
       "      <td>166.0</td>\n",
       "      <td>9.397165</td>\n",
       "      <td>11.881723</td>\n",
       "      <td>2.266667</td>\n",
       "      <td>0.305505</td>\n",
       "      <td>133.333333</td>\n",
       "      <td>31.564748</td>\n",
       "      <td>10.092235</td>\n",
       "      <td>1.562553</td>\n",
       "    </tr>\n",
       "    <tr>\n",
       "      <th>2004-03-10 21:00:00</th>\n",
       "      <td>2.2</td>\n",
       "      <td>172.0</td>\n",
       "      <td>9.228796</td>\n",
       "      <td>21</td>\n",
       "      <td>2</td>\n",
       "      <td>3</td>\n",
       "      <td>2.2</td>\n",
       "      <td>2.0</td>\n",
       "      <td>131.0</td>\n",
       "      <td>103.0</td>\n",
       "      <td>8.997817</td>\n",
       "      <td>9.397165</td>\n",
       "      <td>2.133333</td>\n",
       "      <td>0.115470</td>\n",
       "      <td>135.333333</td>\n",
       "      <td>34.703506</td>\n",
       "      <td>9.207926</td>\n",
       "      <td>0.200490</td>\n",
       "    </tr>\n",
       "    <tr>\n",
       "      <th>2004-03-10 22:00:00</th>\n",
       "      <td>1.6</td>\n",
       "      <td>131.0</td>\n",
       "      <td>6.518224</td>\n",
       "      <td>22</td>\n",
       "      <td>2</td>\n",
       "      <td>3</td>\n",
       "      <td>2.2</td>\n",
       "      <td>2.2</td>\n",
       "      <td>172.0</td>\n",
       "      <td>131.0</td>\n",
       "      <td>9.228796</td>\n",
       "      <td>8.997817</td>\n",
       "      <td>2.000000</td>\n",
       "      <td>0.346410</td>\n",
       "      <td>144.666667</td>\n",
       "      <td>23.671361</td>\n",
       "      <td>8.248279</td>\n",
       "      <td>1.502716</td>\n",
       "    </tr>\n",
       "    <tr>\n",
       "      <th>2004-03-10 23:00:00</th>\n",
       "      <td>1.2</td>\n",
       "      <td>89.0</td>\n",
       "      <td>4.741012</td>\n",
       "      <td>23</td>\n",
       "      <td>2</td>\n",
       "      <td>3</td>\n",
       "      <td>1.6</td>\n",
       "      <td>2.2</td>\n",
       "      <td>131.0</td>\n",
       "      <td>172.0</td>\n",
       "      <td>6.518224</td>\n",
       "      <td>9.228796</td>\n",
       "      <td>1.666667</td>\n",
       "      <td>0.503322</td>\n",
       "      <td>130.666667</td>\n",
       "      <td>41.501004</td>\n",
       "      <td>6.829344</td>\n",
       "      <td>2.260011</td>\n",
       "    </tr>\n",
       "    <tr>\n",
       "      <th>2004-03-11 00:00:00</th>\n",
       "      <td>1.2</td>\n",
       "      <td>62.0</td>\n",
       "      <td>3.624399</td>\n",
       "      <td>0</td>\n",
       "      <td>3</td>\n",
       "      <td>3</td>\n",
       "      <td>1.2</td>\n",
       "      <td>1.6</td>\n",
       "      <td>89.0</td>\n",
       "      <td>131.0</td>\n",
       "      <td>4.741012</td>\n",
       "      <td>6.518224</td>\n",
       "      <td>1.333333</td>\n",
       "      <td>0.230940</td>\n",
       "      <td>94.000000</td>\n",
       "      <td>34.770677</td>\n",
       "      <td>4.961212</td>\n",
       "      <td>1.459425</td>\n",
       "    </tr>\n",
       "  </tbody>\n",
       "</table>\n",
       "</div>"
      ],
      "text/plain": [
       "                     CO(GT)  NOx(GT)  C6H6(GT)  hour  day_of_week  month  \\\n",
       "DateandTime                                                                \n",
       "2004-03-10 20:00:00     2.2    131.0  8.997817    20            2      3   \n",
       "2004-03-10 21:00:00     2.2    172.0  9.228796    21            2      3   \n",
       "2004-03-10 22:00:00     1.6    131.0  6.518224    22            2      3   \n",
       "2004-03-10 23:00:00     1.2     89.0  4.741012    23            2      3   \n",
       "2004-03-11 00:00:00     1.2     62.0  3.624399     0            3      3   \n",
       "\n",
       "                     CO_lag1  CO_lag2  NOx_lag1  NOx_lag2  C6H6_lag1  \\\n",
       "DateandTime                                                            \n",
       "2004-03-10 20:00:00      2.0      2.6     103.0     166.0   9.397165   \n",
       "2004-03-10 21:00:00      2.2      2.0     131.0     103.0   8.997817   \n",
       "2004-03-10 22:00:00      2.2      2.2     172.0     131.0   9.228796   \n",
       "2004-03-10 23:00:00      1.6      2.2     131.0     172.0   6.518224   \n",
       "2004-03-11 00:00:00      1.2      1.6      89.0     131.0   4.741012   \n",
       "\n",
       "                     C6H6_lag2  CO_rolling_mean  CO_rolling_std  \\\n",
       "DateandTime                                                       \n",
       "2004-03-10 20:00:00  11.881723         2.266667        0.305505   \n",
       "2004-03-10 21:00:00   9.397165         2.133333        0.115470   \n",
       "2004-03-10 22:00:00   8.997817         2.000000        0.346410   \n",
       "2004-03-10 23:00:00   9.228796         1.666667        0.503322   \n",
       "2004-03-11 00:00:00   6.518224         1.333333        0.230940   \n",
       "\n",
       "                     NOx_rolling_mean  NOx_rolling_std  C6H6_rolling_mean  \\\n",
       "DateandTime                                                                 \n",
       "2004-03-10 20:00:00        133.333333        31.564748          10.092235   \n",
       "2004-03-10 21:00:00        135.333333        34.703506           9.207926   \n",
       "2004-03-10 22:00:00        144.666667        23.671361           8.248279   \n",
       "2004-03-10 23:00:00        130.666667        41.501004           6.829344   \n",
       "2004-03-11 00:00:00         94.000000        34.770677           4.961212   \n",
       "\n",
       "                     C6H6_rolling_std  \n",
       "DateandTime                            \n",
       "2004-03-10 20:00:00          1.562553  \n",
       "2004-03-10 21:00:00          0.200490  \n",
       "2004-03-10 22:00:00          1.502716  \n",
       "2004-03-10 23:00:00          2.260011  \n",
       "2004-03-11 00:00:00          1.459425  "
      ]
     },
     "execution_count": 13,
     "metadata": {},
     "output_type": "execute_result"
    }
   ],
   "source": [
    "data[['CO(GT)', 'NOx(GT)', 'C6H6(GT)', 'hour', 'day_of_week', 'month',\n",
    "      'CO_lag1', 'CO_lag2', 'NOx_lag1', 'NOx_lag2', 'C6H6_lag1', 'C6H6_lag2',\n",
    "      'CO_rolling_mean', 'CO_rolling_std', 'NOx_rolling_mean', 'NOx_rolling_std',\n",
    "      'C6H6_rolling_mean', 'C6H6_rolling_std']].head()"
   ]
  },
  {
   "cell_type": "code",
   "execution_count": 14,
   "id": "1fb60d86",
   "metadata": {},
   "outputs": [],
   "source": [
    "data.to_csv(\"model.csv\", index=False)"
   ]
  },
  {
   "cell_type": "code",
   "execution_count": 15,
   "id": "5aad7e52",
   "metadata": {},
   "outputs": [],
   "source": [
    "features = ['hour', 'day_of_week', 'month', 'CO_lag1', 'CO_lag2', 'NOx_lag1', 'NOx_lag2',\n",
    "            'C6H6_lag1', 'C6H6_lag2', 'CO_rolling_mean', 'CO_rolling_std', 'NOx_rolling_mean',\n",
    "            'NOx_rolling_std', 'C6H6_rolling_mean', 'C6H6_rolling_std', \n",
    "            'PT08.S1(CO)', 'PT08.S3(NOx)', 'PT08.S4(NO2)', 'PT08.S5(O3)']\n",
    "\n",
    "#Target pollutant to predict CO\n",
    "target = 'CO(GT)'"
   ]
  },
  {
   "cell_type": "code",
   "execution_count": 16,
   "id": "6756f473",
   "metadata": {},
   "outputs": [],
   "source": [
    "#Train-test split (chronological)\n",
    "train_size = int(0.8 * len(data))  #80% training, 20% testing\n",
    "train_data = data.iloc[:train_size]\n",
    "test_data = data.iloc[train_size:]"
   ]
  },
  {
   "cell_type": "code",
   "execution_count": 17,
   "id": "cafa19c4",
   "metadata": {},
   "outputs": [],
   "source": [
    "X_train = train_data[features]\n",
    "y_train = train_data[target]\n",
    "X_test = test_data[features]\n",
    "y_test = test_data[target]"
   ]
  },
  {
   "cell_type": "code",
   "execution_count": 19,
   "id": "c0b37235",
   "metadata": {},
   "outputs": [
    {
     "name": "stderr",
     "output_type": "stream",
     "text": [
      "2025/04/13 13:55:18 INFO mlflow.tracking.fluent: Experiment with name 'XGBoost TimeSeries Experiments' does not exist. Creating a new experiment.\n"
     ]
    },
    {
     "data": {
      "text/plain": [
       "<Experiment: artifact_location='/Users/shauryagulati/mlruns/1', creation_time=1744566918009, experiment_id='1', last_update_time=1744566918009, lifecycle_stage='active', name='XGBoost TimeSeries Experiments', tags={}>"
      ]
     },
     "execution_count": 19,
     "metadata": {},
     "output_type": "execute_result"
    }
   ],
   "source": [
    "mlflow.set_tracking_uri(uri=\"http://127.0.0.1:5000\")\n",
    "mlflow.set_experiment(\"XGBoost TimeSeries Experiments\")"
   ]
  },
  {
   "cell_type": "code",
   "execution_count": 23,
   "id": "0c907d19",
   "metadata": {},
   "outputs": [],
   "source": [
    "param_grid = {\n",
    "    'n_estimators': [50, 100],\n",
    "    'max_depth': [5, 10],\n",
    "    'learning_rate': [0.05, 0.1],\n",
    "    'reg_alpha': [0, 1],\n",
    "}\n",
    "\n",
    "best_model = {'mse': float('inf'), 'params': None, 'model_uri': None}\n"
   ]
  },
  {
   "cell_type": "code",
   "execution_count": 24,
   "id": "84eedd80",
   "metadata": {},
   "outputs": [
    {
     "name": "stderr",
     "output_type": "stream",
     "text": [
      "/opt/anaconda3/lib/python3.12/site-packages/mlflow/types/utils.py:452: UserWarning: Hint: Inferred schema contains integer column(s). Integer columns in Python cannot represent missing values. If your input data contains missing values at inference time, it will be encoded as floats and will cause a schema enforcement error. The best way to avoid this problem is to infer the model schema based on a realistic data sample (training dataset) that includes missing values. Alternatively, you can declare integer columns as doubles (float64) whenever these columns may have missing values. See `Handling Integers With Missing Values <https://www.mlflow.org/docs/latest/models.html#handling-integers-with-missing-values>`_ for more details.\n",
      "  warnings.warn(\n",
      "/opt/anaconda3/lib/python3.12/site-packages/xgboost/sklearn.py:1028: UserWarning: [13:58:38] WARNING: /Users/runner/work/xgboost/xgboost/src/c_api/c_api.cc:1427: Saving model in the UBJSON format as default.  You can use file extension: `json`, `ubj` or `deprecated` to choose between formats.\n",
      "  self.get_booster().save_model(fname)\n",
      "Successfully registered model 'xgb_model_50_5'.\n",
      "2025/04/13 13:58:44 INFO mlflow.store.model_registry.abstract_store: Waiting up to 300 seconds for model version to finish creation. Model name: xgb_model_50_5, version 1\n",
      "Created version '1' of model 'xgb_model_50_5'.\n",
      "/opt/anaconda3/lib/python3.12/site-packages/mlflow/types/utils.py:452: UserWarning: Hint: Inferred schema contains integer column(s). Integer columns in Python cannot represent missing values. If your input data contains missing values at inference time, it will be encoded as floats and will cause a schema enforcement error. The best way to avoid this problem is to infer the model schema based on a realistic data sample (training dataset) that includes missing values. Alternatively, you can declare integer columns as doubles (float64) whenever these columns may have missing values. See `Handling Integers With Missing Values <https://www.mlflow.org/docs/latest/models.html#handling-integers-with-missing-values>`_ for more details.\n",
      "  warnings.warn(\n"
     ]
    },
    {
     "name": "stdout",
     "output_type": "stream",
     "text": [
      "🏃 View run XGB {'n_estimators': 50, 'max_depth': 5, 'learning_rate': 0.05, 'reg_alpha': 0} at: http://127.0.0.1:5000/#/experiments/1/runs/96d7aa60cfd749ab827a4a6b52eb7344\n",
      "🧪 View experiment at: http://127.0.0.1:5000/#/experiments/1\n"
     ]
    },
    {
     "name": "stderr",
     "output_type": "stream",
     "text": [
      "/opt/anaconda3/lib/python3.12/site-packages/xgboost/sklearn.py:1028: UserWarning: [13:58:44] WARNING: /Users/runner/work/xgboost/xgboost/src/c_api/c_api.cc:1427: Saving model in the UBJSON format as default.  You can use file extension: `json`, `ubj` or `deprecated` to choose between formats.\n",
      "  self.get_booster().save_model(fname)\n",
      "Registered model 'xgb_model_50_5' already exists. Creating a new version of this model...\n",
      "2025/04/13 13:58:47 INFO mlflow.store.model_registry.abstract_store: Waiting up to 300 seconds for model version to finish creation. Model name: xgb_model_50_5, version 2\n",
      "Created version '2' of model 'xgb_model_50_5'.\n"
     ]
    },
    {
     "name": "stdout",
     "output_type": "stream",
     "text": [
      "🏃 View run XGB {'n_estimators': 50, 'max_depth': 5, 'learning_rate': 0.05, 'reg_alpha': 1} at: http://127.0.0.1:5000/#/experiments/1/runs/1e971dc215704ffcbb2fd88274b0ab3e\n",
      "🧪 View experiment at: http://127.0.0.1:5000/#/experiments/1\n"
     ]
    },
    {
     "name": "stderr",
     "output_type": "stream",
     "text": [
      "/opt/anaconda3/lib/python3.12/site-packages/mlflow/types/utils.py:452: UserWarning: Hint: Inferred schema contains integer column(s). Integer columns in Python cannot represent missing values. If your input data contains missing values at inference time, it will be encoded as floats and will cause a schema enforcement error. The best way to avoid this problem is to infer the model schema based on a realistic data sample (training dataset) that includes missing values. Alternatively, you can declare integer columns as doubles (float64) whenever these columns may have missing values. See `Handling Integers With Missing Values <https://www.mlflow.org/docs/latest/models.html#handling-integers-with-missing-values>`_ for more details.\n",
      "  warnings.warn(\n",
      "/opt/anaconda3/lib/python3.12/site-packages/xgboost/sklearn.py:1028: UserWarning: [13:58:47] WARNING: /Users/runner/work/xgboost/xgboost/src/c_api/c_api.cc:1427: Saving model in the UBJSON format as default.  You can use file extension: `json`, `ubj` or `deprecated` to choose between formats.\n",
      "  self.get_booster().save_model(fname)\n",
      "Registered model 'xgb_model_50_5' already exists. Creating a new version of this model...\n",
      "2025/04/13 13:58:50 INFO mlflow.store.model_registry.abstract_store: Waiting up to 300 seconds for model version to finish creation. Model name: xgb_model_50_5, version 3\n",
      "Created version '3' of model 'xgb_model_50_5'.\n"
     ]
    },
    {
     "name": "stdout",
     "output_type": "stream",
     "text": [
      "🏃 View run XGB {'n_estimators': 50, 'max_depth': 5, 'learning_rate': 0.1, 'reg_alpha': 0} at: http://127.0.0.1:5000/#/experiments/1/runs/a7fb812bd37d41e580f69623ffafa3a4\n",
      "🧪 View experiment at: http://127.0.0.1:5000/#/experiments/1\n"
     ]
    },
    {
     "name": "stderr",
     "output_type": "stream",
     "text": [
      "/opt/anaconda3/lib/python3.12/site-packages/mlflow/types/utils.py:452: UserWarning: Hint: Inferred schema contains integer column(s). Integer columns in Python cannot represent missing values. If your input data contains missing values at inference time, it will be encoded as floats and will cause a schema enforcement error. The best way to avoid this problem is to infer the model schema based on a realistic data sample (training dataset) that includes missing values. Alternatively, you can declare integer columns as doubles (float64) whenever these columns may have missing values. See `Handling Integers With Missing Values <https://www.mlflow.org/docs/latest/models.html#handling-integers-with-missing-values>`_ for more details.\n",
      "  warnings.warn(\n",
      "/opt/anaconda3/lib/python3.12/site-packages/xgboost/sklearn.py:1028: UserWarning: [13:58:51] WARNING: /Users/runner/work/xgboost/xgboost/src/c_api/c_api.cc:1427: Saving model in the UBJSON format as default.  You can use file extension: `json`, `ubj` or `deprecated` to choose between formats.\n",
      "  self.get_booster().save_model(fname)\n",
      "Registered model 'xgb_model_50_5' already exists. Creating a new version of this model...\n",
      "2025/04/13 13:58:56 INFO mlflow.store.model_registry.abstract_store: Waiting up to 300 seconds for model version to finish creation. Model name: xgb_model_50_5, version 4\n",
      "Created version '4' of model 'xgb_model_50_5'.\n"
     ]
    },
    {
     "name": "stdout",
     "output_type": "stream",
     "text": [
      "🏃 View run XGB {'n_estimators': 50, 'max_depth': 5, 'learning_rate': 0.1, 'reg_alpha': 1} at: http://127.0.0.1:5000/#/experiments/1/runs/8c6f9220535746d7bfa52e090b6cce7a\n",
      "🧪 View experiment at: http://127.0.0.1:5000/#/experiments/1\n"
     ]
    },
    {
     "name": "stderr",
     "output_type": "stream",
     "text": [
      "/opt/anaconda3/lib/python3.12/site-packages/mlflow/types/utils.py:452: UserWarning: Hint: Inferred schema contains integer column(s). Integer columns in Python cannot represent missing values. If your input data contains missing values at inference time, it will be encoded as floats and will cause a schema enforcement error. The best way to avoid this problem is to infer the model schema based on a realistic data sample (training dataset) that includes missing values. Alternatively, you can declare integer columns as doubles (float64) whenever these columns may have missing values. See `Handling Integers With Missing Values <https://www.mlflow.org/docs/latest/models.html#handling-integers-with-missing-values>`_ for more details.\n",
      "  warnings.warn(\n",
      "/opt/anaconda3/lib/python3.12/site-packages/xgboost/sklearn.py:1028: UserWarning: [13:58:57] WARNING: /Users/runner/work/xgboost/xgboost/src/c_api/c_api.cc:1427: Saving model in the UBJSON format as default.  You can use file extension: `json`, `ubj` or `deprecated` to choose between formats.\n",
      "  self.get_booster().save_model(fname)\n",
      "Successfully registered model 'xgb_model_50_10'.\n",
      "2025/04/13 13:59:00 INFO mlflow.store.model_registry.abstract_store: Waiting up to 300 seconds for model version to finish creation. Model name: xgb_model_50_10, version 1\n",
      "Created version '1' of model 'xgb_model_50_10'.\n"
     ]
    },
    {
     "name": "stdout",
     "output_type": "stream",
     "text": [
      "🏃 View run XGB {'n_estimators': 50, 'max_depth': 10, 'learning_rate': 0.05, 'reg_alpha': 0} at: http://127.0.0.1:5000/#/experiments/1/runs/2d7768a5309f44d0af14d9f9452dd490\n",
      "🧪 View experiment at: http://127.0.0.1:5000/#/experiments/1\n"
     ]
    },
    {
     "name": "stderr",
     "output_type": "stream",
     "text": [
      "/opt/anaconda3/lib/python3.12/site-packages/mlflow/types/utils.py:452: UserWarning: Hint: Inferred schema contains integer column(s). Integer columns in Python cannot represent missing values. If your input data contains missing values at inference time, it will be encoded as floats and will cause a schema enforcement error. The best way to avoid this problem is to infer the model schema based on a realistic data sample (training dataset) that includes missing values. Alternatively, you can declare integer columns as doubles (float64) whenever these columns may have missing values. See `Handling Integers With Missing Values <https://www.mlflow.org/docs/latest/models.html#handling-integers-with-missing-values>`_ for more details.\n",
      "  warnings.warn(\n",
      "/opt/anaconda3/lib/python3.12/site-packages/xgboost/sklearn.py:1028: UserWarning: [13:59:01] WARNING: /Users/runner/work/xgboost/xgboost/src/c_api/c_api.cc:1427: Saving model in the UBJSON format as default.  You can use file extension: `json`, `ubj` or `deprecated` to choose between formats.\n",
      "  self.get_booster().save_model(fname)\n",
      "Registered model 'xgb_model_50_10' already exists. Creating a new version of this model...\n",
      "2025/04/13 13:59:04 INFO mlflow.store.model_registry.abstract_store: Waiting up to 300 seconds for model version to finish creation. Model name: xgb_model_50_10, version 2\n",
      "Created version '2' of model 'xgb_model_50_10'.\n"
     ]
    },
    {
     "name": "stdout",
     "output_type": "stream",
     "text": [
      "🏃 View run XGB {'n_estimators': 50, 'max_depth': 10, 'learning_rate': 0.05, 'reg_alpha': 1} at: http://127.0.0.1:5000/#/experiments/1/runs/3295e5fad333486aa3fdbcad175dfcb4\n",
      "🧪 View experiment at: http://127.0.0.1:5000/#/experiments/1\n"
     ]
    },
    {
     "name": "stderr",
     "output_type": "stream",
     "text": [
      "/opt/anaconda3/lib/python3.12/site-packages/mlflow/types/utils.py:452: UserWarning: Hint: Inferred schema contains integer column(s). Integer columns in Python cannot represent missing values. If your input data contains missing values at inference time, it will be encoded as floats and will cause a schema enforcement error. The best way to avoid this problem is to infer the model schema based on a realistic data sample (training dataset) that includes missing values. Alternatively, you can declare integer columns as doubles (float64) whenever these columns may have missing values. See `Handling Integers With Missing Values <https://www.mlflow.org/docs/latest/models.html#handling-integers-with-missing-values>`_ for more details.\n",
      "  warnings.warn(\n",
      "/opt/anaconda3/lib/python3.12/site-packages/xgboost/sklearn.py:1028: UserWarning: [13:59:05] WARNING: /Users/runner/work/xgboost/xgboost/src/c_api/c_api.cc:1427: Saving model in the UBJSON format as default.  You can use file extension: `json`, `ubj` or `deprecated` to choose between formats.\n",
      "  self.get_booster().save_model(fname)\n",
      "Registered model 'xgb_model_50_10' already exists. Creating a new version of this model...\n",
      "2025/04/13 13:59:09 INFO mlflow.store.model_registry.abstract_store: Waiting up to 300 seconds for model version to finish creation. Model name: xgb_model_50_10, version 3\n",
      "Created version '3' of model 'xgb_model_50_10'.\n"
     ]
    },
    {
     "name": "stdout",
     "output_type": "stream",
     "text": [
      "🏃 View run XGB {'n_estimators': 50, 'max_depth': 10, 'learning_rate': 0.1, 'reg_alpha': 0} at: http://127.0.0.1:5000/#/experiments/1/runs/48353b1f2bc94b4c99b11db5c7fdbe22\n",
      "🧪 View experiment at: http://127.0.0.1:5000/#/experiments/1\n"
     ]
    },
    {
     "name": "stderr",
     "output_type": "stream",
     "text": [
      "/opt/anaconda3/lib/python3.12/site-packages/mlflow/types/utils.py:452: UserWarning: Hint: Inferred schema contains integer column(s). Integer columns in Python cannot represent missing values. If your input data contains missing values at inference time, it will be encoded as floats and will cause a schema enforcement error. The best way to avoid this problem is to infer the model schema based on a realistic data sample (training dataset) that includes missing values. Alternatively, you can declare integer columns as doubles (float64) whenever these columns may have missing values. See `Handling Integers With Missing Values <https://www.mlflow.org/docs/latest/models.html#handling-integers-with-missing-values>`_ for more details.\n",
      "  warnings.warn(\n",
      "/opt/anaconda3/lib/python3.12/site-packages/xgboost/sklearn.py:1028: UserWarning: [13:59:10] WARNING: /Users/runner/work/xgboost/xgboost/src/c_api/c_api.cc:1427: Saving model in the UBJSON format as default.  You can use file extension: `json`, `ubj` or `deprecated` to choose between formats.\n",
      "  self.get_booster().save_model(fname)\n",
      "Registered model 'xgb_model_50_10' already exists. Creating a new version of this model...\n",
      "2025/04/13 13:59:13 INFO mlflow.store.model_registry.abstract_store: Waiting up to 300 seconds for model version to finish creation. Model name: xgb_model_50_10, version 4\n",
      "Created version '4' of model 'xgb_model_50_10'.\n"
     ]
    },
    {
     "name": "stdout",
     "output_type": "stream",
     "text": [
      "🏃 View run XGB {'n_estimators': 50, 'max_depth': 10, 'learning_rate': 0.1, 'reg_alpha': 1} at: http://127.0.0.1:5000/#/experiments/1/runs/008642d74ee74e2eafb87064e66bf669\n",
      "🧪 View experiment at: http://127.0.0.1:5000/#/experiments/1\n"
     ]
    },
    {
     "name": "stderr",
     "output_type": "stream",
     "text": [
      "/opt/anaconda3/lib/python3.12/site-packages/mlflow/types/utils.py:452: UserWarning: Hint: Inferred schema contains integer column(s). Integer columns in Python cannot represent missing values. If your input data contains missing values at inference time, it will be encoded as floats and will cause a schema enforcement error. The best way to avoid this problem is to infer the model schema based on a realistic data sample (training dataset) that includes missing values. Alternatively, you can declare integer columns as doubles (float64) whenever these columns may have missing values. See `Handling Integers With Missing Values <https://www.mlflow.org/docs/latest/models.html#handling-integers-with-missing-values>`_ for more details.\n",
      "  warnings.warn(\n",
      "/opt/anaconda3/lib/python3.12/site-packages/xgboost/sklearn.py:1028: UserWarning: [13:59:13] WARNING: /Users/runner/work/xgboost/xgboost/src/c_api/c_api.cc:1427: Saving model in the UBJSON format as default.  You can use file extension: `json`, `ubj` or `deprecated` to choose between formats.\n",
      "  self.get_booster().save_model(fname)\n",
      "Successfully registered model 'xgb_model_100_5'.\n",
      "2025/04/13 13:59:17 INFO mlflow.store.model_registry.abstract_store: Waiting up to 300 seconds for model version to finish creation. Model name: xgb_model_100_5, version 1\n",
      "Created version '1' of model 'xgb_model_100_5'.\n"
     ]
    },
    {
     "name": "stdout",
     "output_type": "stream",
     "text": [
      "🏃 View run XGB {'n_estimators': 100, 'max_depth': 5, 'learning_rate': 0.05, 'reg_alpha': 0} at: http://127.0.0.1:5000/#/experiments/1/runs/79c49f8138d649c681e112c85bd8818c\n",
      "🧪 View experiment at: http://127.0.0.1:5000/#/experiments/1\n"
     ]
    },
    {
     "name": "stderr",
     "output_type": "stream",
     "text": [
      "/opt/anaconda3/lib/python3.12/site-packages/mlflow/types/utils.py:452: UserWarning: Hint: Inferred schema contains integer column(s). Integer columns in Python cannot represent missing values. If your input data contains missing values at inference time, it will be encoded as floats and will cause a schema enforcement error. The best way to avoid this problem is to infer the model schema based on a realistic data sample (training dataset) that includes missing values. Alternatively, you can declare integer columns as doubles (float64) whenever these columns may have missing values. See `Handling Integers With Missing Values <https://www.mlflow.org/docs/latest/models.html#handling-integers-with-missing-values>`_ for more details.\n",
      "  warnings.warn(\n",
      "/opt/anaconda3/lib/python3.12/site-packages/xgboost/sklearn.py:1028: UserWarning: [13:59:17] WARNING: /Users/runner/work/xgboost/xgboost/src/c_api/c_api.cc:1427: Saving model in the UBJSON format as default.  You can use file extension: `json`, `ubj` or `deprecated` to choose between formats.\n",
      "  self.get_booster().save_model(fname)\n",
      "Registered model 'xgb_model_100_5' already exists. Creating a new version of this model...\n",
      "2025/04/13 13:59:20 INFO mlflow.store.model_registry.abstract_store: Waiting up to 300 seconds for model version to finish creation. Model name: xgb_model_100_5, version 2\n",
      "Created version '2' of model 'xgb_model_100_5'.\n"
     ]
    },
    {
     "name": "stdout",
     "output_type": "stream",
     "text": [
      "🏃 View run XGB {'n_estimators': 100, 'max_depth': 5, 'learning_rate': 0.05, 'reg_alpha': 1} at: http://127.0.0.1:5000/#/experiments/1/runs/8f88f4ad55de43c996ae5372dd7e48f8\n",
      "🧪 View experiment at: http://127.0.0.1:5000/#/experiments/1\n"
     ]
    },
    {
     "name": "stderr",
     "output_type": "stream",
     "text": [
      "/opt/anaconda3/lib/python3.12/site-packages/mlflow/types/utils.py:452: UserWarning: Hint: Inferred schema contains integer column(s). Integer columns in Python cannot represent missing values. If your input data contains missing values at inference time, it will be encoded as floats and will cause a schema enforcement error. The best way to avoid this problem is to infer the model schema based on a realistic data sample (training dataset) that includes missing values. Alternatively, you can declare integer columns as doubles (float64) whenever these columns may have missing values. See `Handling Integers With Missing Values <https://www.mlflow.org/docs/latest/models.html#handling-integers-with-missing-values>`_ for more details.\n",
      "  warnings.warn(\n",
      "/opt/anaconda3/lib/python3.12/site-packages/xgboost/sklearn.py:1028: UserWarning: [13:59:20] WARNING: /Users/runner/work/xgboost/xgboost/src/c_api/c_api.cc:1427: Saving model in the UBJSON format as default.  You can use file extension: `json`, `ubj` or `deprecated` to choose between formats.\n",
      "  self.get_booster().save_model(fname)\n",
      "Registered model 'xgb_model_100_5' already exists. Creating a new version of this model...\n",
      "2025/04/13 13:59:24 INFO mlflow.store.model_registry.abstract_store: Waiting up to 300 seconds for model version to finish creation. Model name: xgb_model_100_5, version 3\n",
      "Created version '3' of model 'xgb_model_100_5'.\n"
     ]
    },
    {
     "name": "stdout",
     "output_type": "stream",
     "text": [
      "🏃 View run XGB {'n_estimators': 100, 'max_depth': 5, 'learning_rate': 0.1, 'reg_alpha': 0} at: http://127.0.0.1:5000/#/experiments/1/runs/9e3ea06cda794073a35aff582e4f7a8e\n",
      "🧪 View experiment at: http://127.0.0.1:5000/#/experiments/1\n"
     ]
    },
    {
     "name": "stderr",
     "output_type": "stream",
     "text": [
      "/opt/anaconda3/lib/python3.12/site-packages/mlflow/types/utils.py:452: UserWarning: Hint: Inferred schema contains integer column(s). Integer columns in Python cannot represent missing values. If your input data contains missing values at inference time, it will be encoded as floats and will cause a schema enforcement error. The best way to avoid this problem is to infer the model schema based on a realistic data sample (training dataset) that includes missing values. Alternatively, you can declare integer columns as doubles (float64) whenever these columns may have missing values. See `Handling Integers With Missing Values <https://www.mlflow.org/docs/latest/models.html#handling-integers-with-missing-values>`_ for more details.\n",
      "  warnings.warn(\n",
      "/opt/anaconda3/lib/python3.12/site-packages/xgboost/sklearn.py:1028: UserWarning: [13:59:24] WARNING: /Users/runner/work/xgboost/xgboost/src/c_api/c_api.cc:1427: Saving model in the UBJSON format as default.  You can use file extension: `json`, `ubj` or `deprecated` to choose between formats.\n",
      "  self.get_booster().save_model(fname)\n",
      "Registered model 'xgb_model_100_5' already exists. Creating a new version of this model...\n",
      "2025/04/13 13:59:27 INFO mlflow.store.model_registry.abstract_store: Waiting up to 300 seconds for model version to finish creation. Model name: xgb_model_100_5, version 4\n",
      "Created version '4' of model 'xgb_model_100_5'.\n"
     ]
    },
    {
     "name": "stdout",
     "output_type": "stream",
     "text": [
      "🏃 View run XGB {'n_estimators': 100, 'max_depth': 5, 'learning_rate': 0.1, 'reg_alpha': 1} at: http://127.0.0.1:5000/#/experiments/1/runs/516b1743fb084bd7b83c17bba24b2be3\n",
      "🧪 View experiment at: http://127.0.0.1:5000/#/experiments/1\n"
     ]
    },
    {
     "name": "stderr",
     "output_type": "stream",
     "text": [
      "/opt/anaconda3/lib/python3.12/site-packages/mlflow/types/utils.py:452: UserWarning: Hint: Inferred schema contains integer column(s). Integer columns in Python cannot represent missing values. If your input data contains missing values at inference time, it will be encoded as floats and will cause a schema enforcement error. The best way to avoid this problem is to infer the model schema based on a realistic data sample (training dataset) that includes missing values. Alternatively, you can declare integer columns as doubles (float64) whenever these columns may have missing values. See `Handling Integers With Missing Values <https://www.mlflow.org/docs/latest/models.html#handling-integers-with-missing-values>`_ for more details.\n",
      "  warnings.warn(\n",
      "/opt/anaconda3/lib/python3.12/site-packages/xgboost/sklearn.py:1028: UserWarning: [13:59:28] WARNING: /Users/runner/work/xgboost/xgboost/src/c_api/c_api.cc:1427: Saving model in the UBJSON format as default.  You can use file extension: `json`, `ubj` or `deprecated` to choose between formats.\n",
      "  self.get_booster().save_model(fname)\n",
      "Successfully registered model 'xgb_model_100_10'.\n",
      "2025/04/13 13:59:31 INFO mlflow.store.model_registry.abstract_store: Waiting up to 300 seconds for model version to finish creation. Model name: xgb_model_100_10, version 1\n",
      "Created version '1' of model 'xgb_model_100_10'.\n"
     ]
    },
    {
     "name": "stdout",
     "output_type": "stream",
     "text": [
      "🏃 View run XGB {'n_estimators': 100, 'max_depth': 10, 'learning_rate': 0.05, 'reg_alpha': 0} at: http://127.0.0.1:5000/#/experiments/1/runs/3262c35f169e4eaea910acbfe3a9dbde\n",
      "🧪 View experiment at: http://127.0.0.1:5000/#/experiments/1\n"
     ]
    },
    {
     "name": "stderr",
     "output_type": "stream",
     "text": [
      "/opt/anaconda3/lib/python3.12/site-packages/mlflow/types/utils.py:452: UserWarning: Hint: Inferred schema contains integer column(s). Integer columns in Python cannot represent missing values. If your input data contains missing values at inference time, it will be encoded as floats and will cause a schema enforcement error. The best way to avoid this problem is to infer the model schema based on a realistic data sample (training dataset) that includes missing values. Alternatively, you can declare integer columns as doubles (float64) whenever these columns may have missing values. See `Handling Integers With Missing Values <https://www.mlflow.org/docs/latest/models.html#handling-integers-with-missing-values>`_ for more details.\n",
      "  warnings.warn(\n",
      "/opt/anaconda3/lib/python3.12/site-packages/xgboost/sklearn.py:1028: UserWarning: [13:59:32] WARNING: /Users/runner/work/xgboost/xgboost/src/c_api/c_api.cc:1427: Saving model in the UBJSON format as default.  You can use file extension: `json`, `ubj` or `deprecated` to choose between formats.\n",
      "  self.get_booster().save_model(fname)\n",
      "Registered model 'xgb_model_100_10' already exists. Creating a new version of this model...\n",
      "2025/04/13 13:59:36 INFO mlflow.store.model_registry.abstract_store: Waiting up to 300 seconds for model version to finish creation. Model name: xgb_model_100_10, version 2\n",
      "Created version '2' of model 'xgb_model_100_10'.\n"
     ]
    },
    {
     "name": "stdout",
     "output_type": "stream",
     "text": [
      "🏃 View run XGB {'n_estimators': 100, 'max_depth': 10, 'learning_rate': 0.05, 'reg_alpha': 1} at: http://127.0.0.1:5000/#/experiments/1/runs/fdf69448342847e49f1f5d7ea2e1d38b\n",
      "🧪 View experiment at: http://127.0.0.1:5000/#/experiments/1\n"
     ]
    },
    {
     "name": "stderr",
     "output_type": "stream",
     "text": [
      "/opt/anaconda3/lib/python3.12/site-packages/mlflow/types/utils.py:452: UserWarning: Hint: Inferred schema contains integer column(s). Integer columns in Python cannot represent missing values. If your input data contains missing values at inference time, it will be encoded as floats and will cause a schema enforcement error. The best way to avoid this problem is to infer the model schema based on a realistic data sample (training dataset) that includes missing values. Alternatively, you can declare integer columns as doubles (float64) whenever these columns may have missing values. See `Handling Integers With Missing Values <https://www.mlflow.org/docs/latest/models.html#handling-integers-with-missing-values>`_ for more details.\n",
      "  warnings.warn(\n",
      "/opt/anaconda3/lib/python3.12/site-packages/xgboost/sklearn.py:1028: UserWarning: [13:59:37] WARNING: /Users/runner/work/xgboost/xgboost/src/c_api/c_api.cc:1427: Saving model in the UBJSON format as default.  You can use file extension: `json`, `ubj` or `deprecated` to choose between formats.\n",
      "  self.get_booster().save_model(fname)\n",
      "Registered model 'xgb_model_100_10' already exists. Creating a new version of this model...\n",
      "2025/04/13 13:59:40 INFO mlflow.store.model_registry.abstract_store: Waiting up to 300 seconds for model version to finish creation. Model name: xgb_model_100_10, version 3\n",
      "Created version '3' of model 'xgb_model_100_10'.\n"
     ]
    },
    {
     "name": "stdout",
     "output_type": "stream",
     "text": [
      "🏃 View run XGB {'n_estimators': 100, 'max_depth': 10, 'learning_rate': 0.1, 'reg_alpha': 0} at: http://127.0.0.1:5000/#/experiments/1/runs/a262b9a8ef0e4c76b9715bccd09994ed\n",
      "🧪 View experiment at: http://127.0.0.1:5000/#/experiments/1\n"
     ]
    },
    {
     "name": "stderr",
     "output_type": "stream",
     "text": [
      "/opt/anaconda3/lib/python3.12/site-packages/mlflow/types/utils.py:452: UserWarning: Hint: Inferred schema contains integer column(s). Integer columns in Python cannot represent missing values. If your input data contains missing values at inference time, it will be encoded as floats and will cause a schema enforcement error. The best way to avoid this problem is to infer the model schema based on a realistic data sample (training dataset) that includes missing values. Alternatively, you can declare integer columns as doubles (float64) whenever these columns may have missing values. See `Handling Integers With Missing Values <https://www.mlflow.org/docs/latest/models.html#handling-integers-with-missing-values>`_ for more details.\n",
      "  warnings.warn(\n",
      "/opt/anaconda3/lib/python3.12/site-packages/xgboost/sklearn.py:1028: UserWarning: [13:59:41] WARNING: /Users/runner/work/xgboost/xgboost/src/c_api/c_api.cc:1427: Saving model in the UBJSON format as default.  You can use file extension: `json`, `ubj` or `deprecated` to choose between formats.\n",
      "  self.get_booster().save_model(fname)\n",
      "Registered model 'xgb_model_100_10' already exists. Creating a new version of this model...\n",
      "2025/04/13 13:59:44 INFO mlflow.store.model_registry.abstract_store: Waiting up to 300 seconds for model version to finish creation. Model name: xgb_model_100_10, version 4\n"
     ]
    },
    {
     "name": "stdout",
     "output_type": "stream",
     "text": [
      "🏃 View run XGB {'n_estimators': 100, 'max_depth': 10, 'learning_rate': 0.1, 'reg_alpha': 1} at: http://127.0.0.1:5000/#/experiments/1/runs/cd83527f462747519a8b12b4a5954b68\n",
      "🧪 View experiment at: http://127.0.0.1:5000/#/experiments/1\n",
      "🏆 Best XGBoost Model (80:20 split):\n",
      "{'n_estimators': 100, 'max_depth': 10, 'learning_rate': 0.05, 'reg_alpha': 0}\n",
      "MSE: 0.0453 | RMSE: 0.2128 | MAE: 0.1122 | R2: 0.9748\n"
     ]
    },
    {
     "name": "stderr",
     "output_type": "stream",
     "text": [
      "Created version '4' of model 'xgb_model_100_10'.\n"
     ]
    },
    {
     "data": {
      "text/html": [
       "<div>\n",
       "<style scoped>\n",
       "    .dataframe tbody tr th:only-of-type {\n",
       "        vertical-align: middle;\n",
       "    }\n",
       "\n",
       "    .dataframe tbody tr th {\n",
       "        vertical-align: top;\n",
       "    }\n",
       "\n",
       "    .dataframe thead th {\n",
       "        text-align: right;\n",
       "    }\n",
       "</style>\n",
       "<table border=\"1\" class=\"dataframe\">\n",
       "  <thead>\n",
       "    <tr style=\"text-align: right;\">\n",
       "      <th></th>\n",
       "      <th>hour</th>\n",
       "      <th>day_of_week</th>\n",
       "      <th>month</th>\n",
       "      <th>CO_lag1</th>\n",
       "      <th>CO_lag2</th>\n",
       "      <th>NOx_lag1</th>\n",
       "      <th>NOx_lag2</th>\n",
       "      <th>C6H6_lag1</th>\n",
       "      <th>C6H6_lag2</th>\n",
       "      <th>CO_rolling_mean</th>\n",
       "      <th>...</th>\n",
       "      <th>NOx_rolling_mean</th>\n",
       "      <th>NOx_rolling_std</th>\n",
       "      <th>C6H6_rolling_mean</th>\n",
       "      <th>C6H6_rolling_std</th>\n",
       "      <th>PT08.S1(CO)</th>\n",
       "      <th>PT08.S3(NOx)</th>\n",
       "      <th>PT08.S4(NO2)</th>\n",
       "      <th>PT08.S5(O3)</th>\n",
       "      <th>actual_CO(GT)</th>\n",
       "      <th>predicted_CO(GT)</th>\n",
       "    </tr>\n",
       "    <tr>\n",
       "      <th>DateandTime</th>\n",
       "      <th></th>\n",
       "      <th></th>\n",
       "      <th></th>\n",
       "      <th></th>\n",
       "      <th></th>\n",
       "      <th></th>\n",
       "      <th></th>\n",
       "      <th></th>\n",
       "      <th></th>\n",
       "      <th></th>\n",
       "      <th></th>\n",
       "      <th></th>\n",
       "      <th></th>\n",
       "      <th></th>\n",
       "      <th></th>\n",
       "      <th></th>\n",
       "      <th></th>\n",
       "      <th></th>\n",
       "      <th></th>\n",
       "      <th></th>\n",
       "      <th></th>\n",
       "    </tr>\n",
       "  </thead>\n",
       "  <tbody>\n",
       "    <tr>\n",
       "      <th>2005-01-16 16:00:00</th>\n",
       "      <td>16</td>\n",
       "      <td>6</td>\n",
       "      <td>1</td>\n",
       "      <td>0.7</td>\n",
       "      <td>0.8</td>\n",
       "      <td>106.7</td>\n",
       "      <td>114.4</td>\n",
       "      <td>1.995293</td>\n",
       "      <td>1.892364</td>\n",
       "      <td>0.866667</td>\n",
       "      <td>...</td>\n",
       "      <td>132.266667</td>\n",
       "      <td>37.810889</td>\n",
       "      <td>2.241867</td>\n",
       "      <td>0.518777</td>\n",
       "      <td>877.25</td>\n",
       "      <td>1037.00</td>\n",
       "      <td>858.50</td>\n",
       "      <td>564.50</td>\n",
       "      <td>1.1</td>\n",
       "      <td>1.099938</td>\n",
       "    </tr>\n",
       "    <tr>\n",
       "      <th>2005-01-16 17:00:00</th>\n",
       "      <td>17</td>\n",
       "      <td>6</td>\n",
       "      <td>1</td>\n",
       "      <td>1.1</td>\n",
       "      <td>0.7</td>\n",
       "      <td>175.7</td>\n",
       "      <td>106.7</td>\n",
       "      <td>2.837945</td>\n",
       "      <td>1.995293</td>\n",
       "      <td>0.966667</td>\n",
       "      <td>...</td>\n",
       "      <td>154.233333</td>\n",
       "      <td>41.229278</td>\n",
       "      <td>2.696419</td>\n",
       "      <td>0.642169</td>\n",
       "      <td>892.25</td>\n",
       "      <td>1016.50</td>\n",
       "      <td>872.00</td>\n",
       "      <td>631.50</td>\n",
       "      <td>1.1</td>\n",
       "      <td>1.085428</td>\n",
       "    </tr>\n",
       "    <tr>\n",
       "      <th>2005-01-16 18:00:00</th>\n",
       "      <td>18</td>\n",
       "      <td>6</td>\n",
       "      <td>1</td>\n",
       "      <td>1.1</td>\n",
       "      <td>1.1</td>\n",
       "      <td>180.3</td>\n",
       "      <td>175.7</td>\n",
       "      <td>3.256020</td>\n",
       "      <td>2.837945</td>\n",
       "      <td>1.133333</td>\n",
       "      <td>...</td>\n",
       "      <td>189.333333</td>\n",
       "      <td>19.764193</td>\n",
       "      <td>3.148578</td>\n",
       "      <td>0.273243</td>\n",
       "      <td>898.75</td>\n",
       "      <td>1001.50</td>\n",
       "      <td>892.50</td>\n",
       "      <td>691.25</td>\n",
       "      <td>1.2</td>\n",
       "      <td>1.211365</td>\n",
       "    </tr>\n",
       "    <tr>\n",
       "      <th>2005-01-16 19:00:00</th>\n",
       "      <td>19</td>\n",
       "      <td>6</td>\n",
       "      <td>1</td>\n",
       "      <td>1.2</td>\n",
       "      <td>1.1</td>\n",
       "      <td>212.0</td>\n",
       "      <td>180.3</td>\n",
       "      <td>3.351769</td>\n",
       "      <td>3.256020</td>\n",
       "      <td>1.433333</td>\n",
       "      <td>...</td>\n",
       "      <td>241.000000</td>\n",
       "      <td>79.282974</td>\n",
       "      <td>4.564094</td>\n",
       "      <td>2.183255</td>\n",
       "      <td>1007.75</td>\n",
       "      <td>839.25</td>\n",
       "      <td>977.25</td>\n",
       "      <td>942.75</td>\n",
       "      <td>2.0</td>\n",
       "      <td>1.916879</td>\n",
       "    </tr>\n",
       "    <tr>\n",
       "      <th>2005-01-16 20:00:00</th>\n",
       "      <td>20</td>\n",
       "      <td>6</td>\n",
       "      <td>1</td>\n",
       "      <td>2.0</td>\n",
       "      <td>1.2</td>\n",
       "      <td>330.7</td>\n",
       "      <td>212.0</td>\n",
       "      <td>7.084494</td>\n",
       "      <td>3.351769</td>\n",
       "      <td>1.800000</td>\n",
       "      <td>...</td>\n",
       "      <td>303.800000</td>\n",
       "      <td>81.740015</td>\n",
       "      <td>5.937134</td>\n",
       "      <td>2.243703</td>\n",
       "      <td>1012.50</td>\n",
       "      <td>820.25</td>\n",
       "      <td>984.00</td>\n",
       "      <td>985.25</td>\n",
       "      <td>2.2</td>\n",
       "      <td>2.127414</td>\n",
       "    </tr>\n",
       "  </tbody>\n",
       "</table>\n",
       "<p>5 rows × 21 columns</p>\n",
       "</div>"
      ],
      "text/plain": [
       "                     hour  day_of_week  month  CO_lag1  CO_lag2  NOx_lag1  \\\n",
       "DateandTime                                                                 \n",
       "2005-01-16 16:00:00    16            6      1      0.7      0.8     106.7   \n",
       "2005-01-16 17:00:00    17            6      1      1.1      0.7     175.7   \n",
       "2005-01-16 18:00:00    18            6      1      1.1      1.1     180.3   \n",
       "2005-01-16 19:00:00    19            6      1      1.2      1.1     212.0   \n",
       "2005-01-16 20:00:00    20            6      1      2.0      1.2     330.7   \n",
       "\n",
       "                     NOx_lag2  C6H6_lag1  C6H6_lag2  CO_rolling_mean  ...  \\\n",
       "DateandTime                                                           ...   \n",
       "2005-01-16 16:00:00     114.4   1.995293   1.892364         0.866667  ...   \n",
       "2005-01-16 17:00:00     106.7   2.837945   1.995293         0.966667  ...   \n",
       "2005-01-16 18:00:00     175.7   3.256020   2.837945         1.133333  ...   \n",
       "2005-01-16 19:00:00     180.3   3.351769   3.256020         1.433333  ...   \n",
       "2005-01-16 20:00:00     212.0   7.084494   3.351769         1.800000  ...   \n",
       "\n",
       "                     NOx_rolling_mean  NOx_rolling_std  C6H6_rolling_mean  \\\n",
       "DateandTime                                                                 \n",
       "2005-01-16 16:00:00        132.266667        37.810889           2.241867   \n",
       "2005-01-16 17:00:00        154.233333        41.229278           2.696419   \n",
       "2005-01-16 18:00:00        189.333333        19.764193           3.148578   \n",
       "2005-01-16 19:00:00        241.000000        79.282974           4.564094   \n",
       "2005-01-16 20:00:00        303.800000        81.740015           5.937134   \n",
       "\n",
       "                     C6H6_rolling_std  PT08.S1(CO)  PT08.S3(NOx)  \\\n",
       "DateandTime                                                        \n",
       "2005-01-16 16:00:00          0.518777       877.25       1037.00   \n",
       "2005-01-16 17:00:00          0.642169       892.25       1016.50   \n",
       "2005-01-16 18:00:00          0.273243       898.75       1001.50   \n",
       "2005-01-16 19:00:00          2.183255      1007.75        839.25   \n",
       "2005-01-16 20:00:00          2.243703      1012.50        820.25   \n",
       "\n",
       "                     PT08.S4(NO2)  PT08.S5(O3)  actual_CO(GT)  \\\n",
       "DateandTime                                                     \n",
       "2005-01-16 16:00:00        858.50       564.50            1.1   \n",
       "2005-01-16 17:00:00        872.00       631.50            1.1   \n",
       "2005-01-16 18:00:00        892.50       691.25            1.2   \n",
       "2005-01-16 19:00:00        977.25       942.75            2.0   \n",
       "2005-01-16 20:00:00        984.00       985.25            2.2   \n",
       "\n",
       "                     predicted_CO(GT)  \n",
       "DateandTime                            \n",
       "2005-01-16 16:00:00          1.099938  \n",
       "2005-01-16 17:00:00          1.085428  \n",
       "2005-01-16 18:00:00          1.211365  \n",
       "2005-01-16 19:00:00          1.916879  \n",
       "2005-01-16 20:00:00          2.127414  \n",
       "\n",
       "[5 rows x 21 columns]"
      ]
     },
     "execution_count": 24,
     "metadata": {},
     "output_type": "execute_result"
    }
   ],
   "source": [
    "for values in product(*param_grid.values()):\n",
    "    params = dict(zip(param_grid.keys(), values))\n",
    "    \n",
    "    with mlflow.start_run(run_name=f\"XGB {params}\"):\n",
    "        mlflow.set_tag(\"model_type\", \"XGBoost_Regressor\")\n",
    "        mlflow.set_tag(\"data_split\", \"chronological 80:20\")\n",
    "        \n",
    "        model = xgb.XGBRegressor(**params, random_state=42)\n",
    "        model.fit(X_train, y_train)\n",
    "        \n",
    "        y_pred = model.predict(X_test)\n",
    "        \n",
    "        #Calculate metrics\n",
    "        mse = mean_squared_error(y_test, y_pred)\n",
    "        rmse = np.sqrt(mse)\n",
    "        mae = mean_absolute_error(y_test, y_pred)\n",
    "        r2 = r2_score(y_test, y_pred)\n",
    "        \n",
    "        mlflow.log_params(params)\n",
    "        mlflow.log_metrics({\"mse\": mse, \"rmse\": rmse, \"mae\": mae, \"r2\": r2})\n",
    "        \n",
    "        #Log model\n",
    "        signature = infer_signature(X_train, model.predict(X_train))\n",
    "        model_info = mlflow.xgboost.log_model(\n",
    "            model,\n",
    "            artifact_path=f\"xgb_model_{params['n_estimators']}_{params['max_depth']}\",\n",
    "            signature=signature,\n",
    "            input_example=X_train.head(),\n",
    "            registered_model_name=f\"xgb_model_{params['n_estimators']}_{params['max_depth']}\"\n",
    "        )\n",
    "        \n",
    "        #Save best model\n",
    "        if mse < best_model['mse']:\n",
    "            best_model = {\n",
    "                'mse': mse,\n",
    "                'rmse': rmse,\n",
    "                'mae': mae,\n",
    "                'r2': r2,\n",
    "                'params': params,\n",
    "                'model_uri': model_info.model_uri\n",
    "            }\n",
    "\n",
    "#Print best model results\n",
    "print(\"🏆 Best XGBoost Model (80:20 split):\")\n",
    "print(best_model['params'])\n",
    "print(f\"MSE: {best_model['mse']:.4f} | RMSE: {best_model['rmse']:.4f} | MAE: {best_model['mae']:.4f} | R2: {best_model['r2']:.4f}\")\n",
    "\n",
    "#Load best model and make predictions\n",
    "loaded_model = mlflow.pyfunc.load_model(best_model['model_uri'])\n",
    "predictions = loaded_model.predict(X_test)\n",
    "\n",
    "\n",
    "result_df = X_test.copy()\n",
    "result_df[\"actual_CO(GT)\"] = y_test\n",
    "result_df[\"predicted_CO(GT)\"] = predictions\n",
    "result_df.head()"
   ]
  },
  {
   "cell_type": "code",
   "execution_count": null,
   "id": "fd97246b",
   "metadata": {},
   "outputs": [],
   "source": []
  }
 ],
 "metadata": {
  "kernelspec": {
   "display_name": "base",
   "language": "python",
   "name": "python3"
  },
  "language_info": {
   "codemirror_mode": {
    "name": "ipython",
    "version": 3
   },
   "file_extension": ".py",
   "mimetype": "text/x-python",
   "name": "python",
   "nbconvert_exporter": "python",
   "pygments_lexer": "ipython3",
   "version": "3.12.4"
  }
 },
 "nbformat": 4,
 "nbformat_minor": 5
}
